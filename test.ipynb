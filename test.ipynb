{
 "cells": [
  {
   "cell_type": "code",
   "execution_count": 1,
   "metadata": {
    "collapsed": true
   },
   "outputs": [],
   "source": [
    "import matplotlib.pyplot as plt\n",
    "import torchvision\n",
    "import torchvision.transforms as transforms\n",
    "\n",
    "import torch\n",
    "from dataset import CIFAR10\n",
    "from torch.utils.data import DataLoader\n",
    "\n",
    "import NoiseFactory as NF\n",
    "import TransformationFactory as TF\n",
    "import numpy as np\n",
    "\n",
    "import imgaug.augmenters as iaa\n",
    "import imagecorruptions\n",
    "from PIL import Image\n",
    "import random\n",
    "from resnet20 import ResNetCIFAR"
   ]
  },
  {
   "cell_type": "code",
   "execution_count": 2,
   "outputs": [],
   "source": [
    "def set_device():\n",
    "    # specify the device for computation\n",
    "    #############################################\n",
    "    # your code here\n",
    "    device = 'cpu'\n",
    "    if device =='cuda':\n",
    "        print(\"Run on GPU...\")\n",
    "    else:\n",
    "        print(\"Run on CPU...\")\n",
    "\n",
    "    return device"
   ],
   "metadata": {
    "collapsed": false
   }
  },
  {
   "cell_type": "code",
   "execution_count": 3,
   "outputs": [],
   "source": [
    "def get_training_transforms(intensity:int=0, noise = None, p:float=0.5):\n",
    "    n_factory = NF.NoiseFactory()\n",
    "    transforms_factory = TF.TransformationFactory()\n",
    "\n",
    "    transform_train = transforms_factory.get_transformation_composition_by_name(transformation_set=noise, intensity=intensity, p=p)\n",
    "    noise_factory_function = n_factory.get_noise_by_name(noise_type_name=noise, intensity=intensity, p=p)\n",
    "    transform_val =transforms_factory.get_transformation_composition_by_name(transformation_set=None)\n",
    "\n",
    "    return transform_train, transform_val, noise_factory_function"
   ],
   "metadata": {
    "collapsed": false
   }
  },
  {
   "cell_type": "code",
   "execution_count": 13,
   "outputs": [
    {
     "name": "stdout",
     "output_type": "stream",
     "text": [
      "Using downloaded and verified file: ./data/cifar10_trainval_F22.zip\n",
      "Extracting ./data/cifar10_trainval_F22.zip to ./data\n",
      "Files already downloaded and verified\n",
      "Run on CPU...\n"
     ]
    },
    {
     "name": "stderr",
     "output_type": "stream",
     "text": [
      "Clipping input data to the valid range for imshow with RGB data ([0..1] for floats or [0..255] for integers).\n"
     ]
    },
    {
     "name": "stdout",
     "output_type": "stream",
     "text": [
      "0\n",
      "----------------------------------------------------------------------\n"
     ]
    },
    {
     "ename": "ValueError",
     "evalue": "",
     "output_type": "error",
     "traceback": [
      "\u001B[0;31m---------------------------------------------------------------------------\u001B[0m",
      "\u001B[0;31mValueError\u001B[0m                                Traceback (most recent call last)",
      "Cell \u001B[0;32mIn [13], line 40\u001B[0m\n\u001B[1;32m     38\u001B[0m     \u001B[38;5;28mprint\u001B[39m(\u001B[38;5;124m\"\u001B[39m\u001B[38;5;124m----------------------------------------------------------------------\u001B[39m\u001B[38;5;124m\"\u001B[39m)\n\u001B[1;32m     39\u001B[0m     example_img_plotter(inputs[i, :,:,:], transformation\u001B[38;5;241m=\u001B[39m\u001B[38;5;28;01mNone\u001B[39;00m, imgaug\u001B[38;5;241m=\u001B[39m\u001B[38;5;28;01mNone\u001B[39;00m)\n\u001B[0;32m---> 40\u001B[0m \u001B[38;5;28;01mraise\u001B[39;00m \u001B[38;5;167;01mValueError\u001B[39;00m()\n",
      "\u001B[0;31mValueError\u001B[0m: "
     ]
    },
    {
     "data": {
      "text/plain": "<Figure size 640x480 with 1 Axes>",
      "image/png": "[encoded data removed]"
     },
     "metadata": {},
     "output_type": "display_data"
    }
   ],
   "source": [
    "def example_img_plotter(img):\n",
    "    plt.imshow(  img.permute(1,2,0))\n",
    "\n",
    "transform_train, transform_val, noise_factory_function = get_training_transforms(intensity=3, noise = \"gaussian-blur\", p=0.5)\n",
    "\n",
    "\n",
    "# a few arguments, do NOT change these\n",
    "DATA_ROOT = \"./data\"\n",
    "TRAIN_BATCH_SIZE = 128\n",
    "VAL_BATCH_SIZE = 100\n",
    "\n",
    "#############################################\n",
    "# your code here\n",
    "# construct dataset\n",
    "train_set = CIFAR10(\n",
    "    root=DATA_ROOT,\n",
    "    mode='train',\n",
    "    download=True,\n",
    "    transform=transform_train,    # your code\n",
    "    imgaug_types=noise_factory_function\n",
    ")\n",
    "\n",
    "# construct dataloader\n",
    "train_loader = DataLoader(\n",
    "    train_set,\n",
    "    batch_size=TRAIN_BATCH_SIZE ,  # your code\n",
    "    shuffle=False,     # your code\n",
    "    num_workers=4\n",
    ")\n",
    "\n",
    "device = set_device()\n",
    "\n",
    "for batch_idx, (inputs, targets) in enumerate(train_loader):\n",
    "    ####################################\n",
    "    for i in range(0,1):\n",
    "        print(i)\n",
    "        print(\"----------------------------------------------------------------------\")\n",
    "        example_img_plotter(inputs[i, :,:,:], transformation=None, imgaug=None)\n",
    "    raise ValueError()\n",
    "\n"
   ],
   "metadata": {
    "collapsed": false
   }
  },
  {
   "cell_type": "code",
   "execution_count": null,
   "outputs": [],
   "source": [],
   "metadata": {
    "collapsed": false
   }
  }
 ],
 "metadata": {
  "kernelspec": {
   "display_name": "Python 3",
   "language": "python",
   "name": "python3"
  },
  "language_info": {
   "codemirror_mode": {
    "name": "ipython",
    "version": 2
   },
   "file_extension": ".py",
   "mimetype": "text/x-python",
   "name": "python",
   "nbconvert_exporter": "python",
   "pygments_lexer": "ipython2",
   "version": "2.7.6"
  }
 },
 "nbformat": 4,
 "nbformat_minor": 0
}
